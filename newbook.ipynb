{
 "metadata": {
  "language_info": {
   "codemirror_mode": {
    "name": "ipython",
    "version": 3
   },
   "file_extension": ".py",
   "mimetype": "text/x-python",
   "name": "python",
   "nbconvert_exporter": "python",
   "pygments_lexer": "ipython3",
   "version": "3.9.2"
  },
  "orig_nbformat": 2,
  "kernelspec": {
   "name": "python392jvsc74a57bd0aee8b7b246df8f9039afb4144a1f6fd8d2ca17a180786b69acc140d282b71a49",
   "display_name": "Python 3.9.2 64-bit"
  },
  "metadata": {
   "interpreter": {
    "hash": "aee8b7b246df8f9039afb4144a1f6fd8d2ca17a180786b69acc140d282b71a49"
   }
  }
 },
 "nbformat": 4,
 "nbformat_minor": 2,
 "cells": [
  {
   "cell_type": "code",
   "execution_count": null,
   "metadata": {},
   "outputs": [],
   "source": [
    "import sys\n",
    "print('Python version\\n{0}\\n'.format(sys.version))\n",
    "print('Version information\\n{0}\\n'.format(sys.version_info))\n",
    "\n",
    "# Working on Dictionary\n",
    "exchange_rates1 = {\"EURUSD\": 1.1152, \"GBPUSD\": 1.2454, \"AUDUSD\": 0.6161}\n",
    "exchange_rates2 = {\"SGDUSD\": 0.7004, \"GBPUSD\": 1.2222}\n",
    "\n",
    "print ('Exchange rate1 is {0}\\nExchange rate2 is {1}\\n'.format(exchange_rates1,exchange_rates2))\n",
    "exchange_rate = {**exchange_rates1, **exchange_rates2}\n",
    "print ('Use **kwarg to concat dictionary, that works prior Python 3.8 \\n{0}\\n'.format(exchange_rate))\n",
    "\n",
    "# Below only works at Python 3.9 and up\n",
    "try:\n",
    "    print('Use pipe \"|\" to concat dictionary, that works from Python 3.9 and up \\n{0}'.format(exchange_rates1 | exchange_rates2))\n",
    "except Exception as e:\n",
    "    print('Exception caught prior Python 3.9')\n",
    "    print(f'Exception Instance is : {type(e)}')  # the exception instance\n",
    "    print(f'Exception Arguments : {e.args}')   # arguments stored in the exception\n",
    "    print(f'Exception itself : {e}')"
   ]
  },
  {
   "cell_type": "code",
   "execution_count": null,
   "metadata": {},
   "outputs": [],
   "source": []
  }
 ]
}